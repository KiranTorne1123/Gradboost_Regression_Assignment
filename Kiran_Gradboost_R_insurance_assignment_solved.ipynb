{
 "cells": [
  {
   "cell_type": "code",
   "execution_count": 156,
   "id": "421e8f93-bf69-4ef6-a915-5869645113fe",
   "metadata": {},
   "outputs": [
    {
     "name": "stdout",
     "output_type": "stream",
     "text": [
      "importing is done\n"
     ]
    }
   ],
   "source": [
    "# import libraries\n",
    "import numpy as np\n",
    "import pandas as pd\n",
    "import matplotlib.pyplot as plt\n",
    "print(\"importing is done\")"
   ]
  },
  {
   "cell_type": "code",
   "execution_count": 157,
   "id": "a79f69c3-6784-42f2-9928-5a1c49bcd06d",
   "metadata": {},
   "outputs": [],
   "source": [
    "#load the dataset\n",
    "df=pd.read_csv('insurance.csv')"
   ]
  },
  {
   "cell_type": "code",
   "execution_count": 158,
   "id": "b3b89663-8985-46b8-9a9e-9eb637e06e9d",
   "metadata": {},
   "outputs": [
    {
     "data": {
      "text/html": [
       "<div>\n",
       "<style scoped>\n",
       "    .dataframe tbody tr th:only-of-type {\n",
       "        vertical-align: middle;\n",
       "    }\n",
       "\n",
       "    .dataframe tbody tr th {\n",
       "        vertical-align: top;\n",
       "    }\n",
       "\n",
       "    .dataframe thead th {\n",
       "        text-align: right;\n",
       "    }\n",
       "</style>\n",
       "<table border=\"1\" class=\"dataframe\">\n",
       "  <thead>\n",
       "    <tr style=\"text-align: right;\">\n",
       "      <th></th>\n",
       "      <th>age</th>\n",
       "      <th>sex</th>\n",
       "      <th>bmi</th>\n",
       "      <th>children</th>\n",
       "      <th>smoker</th>\n",
       "      <th>region</th>\n",
       "      <th>charges</th>\n",
       "    </tr>\n",
       "  </thead>\n",
       "  <tbody>\n",
       "    <tr>\n",
       "      <th>0</th>\n",
       "      <td>19</td>\n",
       "      <td>female</td>\n",
       "      <td>27.900</td>\n",
       "      <td>0</td>\n",
       "      <td>yes</td>\n",
       "      <td>southwest</td>\n",
       "      <td>16884.92400</td>\n",
       "    </tr>\n",
       "    <tr>\n",
       "      <th>1</th>\n",
       "      <td>18</td>\n",
       "      <td>male</td>\n",
       "      <td>33.770</td>\n",
       "      <td>1</td>\n",
       "      <td>no</td>\n",
       "      <td>southeast</td>\n",
       "      <td>1725.55230</td>\n",
       "    </tr>\n",
       "    <tr>\n",
       "      <th>2</th>\n",
       "      <td>28</td>\n",
       "      <td>male</td>\n",
       "      <td>33.000</td>\n",
       "      <td>3</td>\n",
       "      <td>no</td>\n",
       "      <td>southeast</td>\n",
       "      <td>4449.46200</td>\n",
       "    </tr>\n",
       "    <tr>\n",
       "      <th>3</th>\n",
       "      <td>33</td>\n",
       "      <td>male</td>\n",
       "      <td>22.705</td>\n",
       "      <td>0</td>\n",
       "      <td>no</td>\n",
       "      <td>northwest</td>\n",
       "      <td>21984.47061</td>\n",
       "    </tr>\n",
       "    <tr>\n",
       "      <th>4</th>\n",
       "      <td>32</td>\n",
       "      <td>male</td>\n",
       "      <td>28.880</td>\n",
       "      <td>0</td>\n",
       "      <td>no</td>\n",
       "      <td>northwest</td>\n",
       "      <td>3866.85520</td>\n",
       "    </tr>\n",
       "    <tr>\n",
       "      <th>...</th>\n",
       "      <td>...</td>\n",
       "      <td>...</td>\n",
       "      <td>...</td>\n",
       "      <td>...</td>\n",
       "      <td>...</td>\n",
       "      <td>...</td>\n",
       "      <td>...</td>\n",
       "    </tr>\n",
       "    <tr>\n",
       "      <th>1333</th>\n",
       "      <td>50</td>\n",
       "      <td>male</td>\n",
       "      <td>30.970</td>\n",
       "      <td>3</td>\n",
       "      <td>no</td>\n",
       "      <td>northwest</td>\n",
       "      <td>10600.54830</td>\n",
       "    </tr>\n",
       "    <tr>\n",
       "      <th>1334</th>\n",
       "      <td>18</td>\n",
       "      <td>female</td>\n",
       "      <td>31.920</td>\n",
       "      <td>0</td>\n",
       "      <td>no</td>\n",
       "      <td>northeast</td>\n",
       "      <td>2205.98080</td>\n",
       "    </tr>\n",
       "    <tr>\n",
       "      <th>1335</th>\n",
       "      <td>18</td>\n",
       "      <td>female</td>\n",
       "      <td>36.850</td>\n",
       "      <td>0</td>\n",
       "      <td>no</td>\n",
       "      <td>southeast</td>\n",
       "      <td>1629.83350</td>\n",
       "    </tr>\n",
       "    <tr>\n",
       "      <th>1336</th>\n",
       "      <td>21</td>\n",
       "      <td>female</td>\n",
       "      <td>25.800</td>\n",
       "      <td>0</td>\n",
       "      <td>no</td>\n",
       "      <td>southwest</td>\n",
       "      <td>2007.94500</td>\n",
       "    </tr>\n",
       "    <tr>\n",
       "      <th>1337</th>\n",
       "      <td>61</td>\n",
       "      <td>female</td>\n",
       "      <td>29.070</td>\n",
       "      <td>0</td>\n",
       "      <td>yes</td>\n",
       "      <td>northwest</td>\n",
       "      <td>29141.36030</td>\n",
       "    </tr>\n",
       "  </tbody>\n",
       "</table>\n",
       "<p>1338 rows × 7 columns</p>\n",
       "</div>"
      ],
      "text/plain": [
       "      age     sex     bmi  children smoker     region      charges\n",
       "0      19  female  27.900         0    yes  southwest  16884.92400\n",
       "1      18    male  33.770         1     no  southeast   1725.55230\n",
       "2      28    male  33.000         3     no  southeast   4449.46200\n",
       "3      33    male  22.705         0     no  northwest  21984.47061\n",
       "4      32    male  28.880         0     no  northwest   3866.85520\n",
       "...   ...     ...     ...       ...    ...        ...          ...\n",
       "1333   50    male  30.970         3     no  northwest  10600.54830\n",
       "1334   18  female  31.920         0     no  northeast   2205.98080\n",
       "1335   18  female  36.850         0     no  southeast   1629.83350\n",
       "1336   21  female  25.800         0     no  southwest   2007.94500\n",
       "1337   61  female  29.070         0    yes  northwest  29141.36030\n",
       "\n",
       "[1338 rows x 7 columns]"
      ]
     },
     "execution_count": 158,
     "metadata": {},
     "output_type": "execute_result"
    }
   ],
   "source": [
    "# summarizing the dataset\n",
    "df"
   ]
  },
  {
   "cell_type": "code",
   "execution_count": 159,
   "id": "0dda8d04-b0ab-44e9-8948-bb15b44be7f2",
   "metadata": {},
   "outputs": [
    {
     "name": "stdout",
     "output_type": "stream",
     "text": [
      "<class 'pandas.core.frame.DataFrame'>\n",
      "RangeIndex: 1338 entries, 0 to 1337\n",
      "Data columns (total 7 columns):\n",
      " #   Column    Non-Null Count  Dtype  \n",
      "---  ------    --------------  -----  \n",
      " 0   age       1338 non-null   int64  \n",
      " 1   sex       1338 non-null   object \n",
      " 2   bmi       1338 non-null   float64\n",
      " 3   children  1338 non-null   int64  \n",
      " 4   smoker    1338 non-null   object \n",
      " 5   region    1338 non-null   object \n",
      " 6   charges   1338 non-null   float64\n",
      "dtypes: float64(2), int64(2), object(3)\n",
      "memory usage: 73.3+ KB\n"
     ]
    }
   ],
   "source": [
    "df.info()"
   ]
  },
  {
   "cell_type": "code",
   "execution_count": 160,
   "id": "e37c6bc7-7879-425a-8115-3f8981769d72",
   "metadata": {},
   "outputs": [
    {
     "data": {
      "text/html": [
       "<div>\n",
       "<style scoped>\n",
       "    .dataframe tbody tr th:only-of-type {\n",
       "        vertical-align: middle;\n",
       "    }\n",
       "\n",
       "    .dataframe tbody tr th {\n",
       "        vertical-align: top;\n",
       "    }\n",
       "\n",
       "    .dataframe thead th {\n",
       "        text-align: right;\n",
       "    }\n",
       "</style>\n",
       "<table border=\"1\" class=\"dataframe\">\n",
       "  <thead>\n",
       "    <tr style=\"text-align: right;\">\n",
       "      <th></th>\n",
       "      <th>age</th>\n",
       "      <th>bmi</th>\n",
       "      <th>children</th>\n",
       "      <th>charges</th>\n",
       "    </tr>\n",
       "  </thead>\n",
       "  <tbody>\n",
       "    <tr>\n",
       "      <th>count</th>\n",
       "      <td>1338.000000</td>\n",
       "      <td>1338.000000</td>\n",
       "      <td>1338.000000</td>\n",
       "      <td>1338.000000</td>\n",
       "    </tr>\n",
       "    <tr>\n",
       "      <th>mean</th>\n",
       "      <td>39.207025</td>\n",
       "      <td>30.663397</td>\n",
       "      <td>1.094918</td>\n",
       "      <td>13270.422265</td>\n",
       "    </tr>\n",
       "    <tr>\n",
       "      <th>std</th>\n",
       "      <td>14.049960</td>\n",
       "      <td>6.098187</td>\n",
       "      <td>1.205493</td>\n",
       "      <td>12110.011237</td>\n",
       "    </tr>\n",
       "    <tr>\n",
       "      <th>min</th>\n",
       "      <td>18.000000</td>\n",
       "      <td>15.960000</td>\n",
       "      <td>0.000000</td>\n",
       "      <td>1121.873900</td>\n",
       "    </tr>\n",
       "    <tr>\n",
       "      <th>25%</th>\n",
       "      <td>27.000000</td>\n",
       "      <td>26.296250</td>\n",
       "      <td>0.000000</td>\n",
       "      <td>4740.287150</td>\n",
       "    </tr>\n",
       "    <tr>\n",
       "      <th>50%</th>\n",
       "      <td>39.000000</td>\n",
       "      <td>30.400000</td>\n",
       "      <td>1.000000</td>\n",
       "      <td>9382.033000</td>\n",
       "    </tr>\n",
       "    <tr>\n",
       "      <th>75%</th>\n",
       "      <td>51.000000</td>\n",
       "      <td>34.693750</td>\n",
       "      <td>2.000000</td>\n",
       "      <td>16639.912515</td>\n",
       "    </tr>\n",
       "    <tr>\n",
       "      <th>max</th>\n",
       "      <td>64.000000</td>\n",
       "      <td>53.130000</td>\n",
       "      <td>5.000000</td>\n",
       "      <td>63770.428010</td>\n",
       "    </tr>\n",
       "  </tbody>\n",
       "</table>\n",
       "</div>"
      ],
      "text/plain": [
       "               age          bmi     children       charges\n",
       "count  1338.000000  1338.000000  1338.000000   1338.000000\n",
       "mean     39.207025    30.663397     1.094918  13270.422265\n",
       "std      14.049960     6.098187     1.205493  12110.011237\n",
       "min      18.000000    15.960000     0.000000   1121.873900\n",
       "25%      27.000000    26.296250     0.000000   4740.287150\n",
       "50%      39.000000    30.400000     1.000000   9382.033000\n",
       "75%      51.000000    34.693750     2.000000  16639.912515\n",
       "max      64.000000    53.130000     5.000000  63770.428010"
      ]
     },
     "execution_count": 160,
     "metadata": {},
     "output_type": "execute_result"
    }
   ],
   "source": [
    "df.describe()"
   ]
  },
  {
   "cell_type": "code",
   "execution_count": 161,
   "id": "36795142-78fb-461b-a683-1649fcfb79d7",
   "metadata": {},
   "outputs": [
    {
     "data": {
      "text/plain": [
       "1338"
      ]
     },
     "execution_count": 161,
     "metadata": {},
     "output_type": "execute_result"
    }
   ],
   "source": [
    "len(df)"
   ]
  },
  {
   "cell_type": "code",
   "execution_count": 162,
   "id": "e7a8f36c-17cf-437a-a734-b2df25103aa0",
   "metadata": {},
   "outputs": [
    {
     "data": {
      "text/plain": [
       "age           int64\n",
       "sex          object\n",
       "bmi         float64\n",
       "children      int64\n",
       "smoker       object\n",
       "region       object\n",
       "charges     float64\n",
       "dtype: object"
      ]
     },
     "execution_count": 162,
     "metadata": {},
     "output_type": "execute_result"
    }
   ],
   "source": [
    "df.dtypes"
   ]
  },
  {
   "cell_type": "code",
   "execution_count": 163,
   "id": "88b518e3-9f22-4ff3-9da9-dbb3e210220a",
   "metadata": {},
   "outputs": [],
   "source": [
    "# wwe have  columns with object values which we have to convert to integer"
   ]
  },
  {
   "cell_type": "code",
   "execution_count": 164,
   "id": "89b685ed-27a0-4bb5-b1ae-34de1c384b78",
   "metadata": {},
   "outputs": [
    {
     "data": {
      "text/plain": [
       "0"
      ]
     },
     "execution_count": 164,
     "metadata": {},
     "output_type": "execute_result"
    }
   ],
   "source": [
    "# pre-processing the dataset\n",
    "# first we check for null values\n",
    "df.isnull().sum().max()"
   ]
  },
  {
   "cell_type": "code",
   "execution_count": 165,
   "id": "ebfff12a-ffc0-434c-ac53-36e6fdd76bdd",
   "metadata": {},
   "outputs": [],
   "source": [
    "# we import new libraries to encode the columns with value as object\n",
    "from sklearn import preprocessing\n",
    "from sklearn.preprocessing import LabelEncoder"
   ]
  },
  {
   "cell_type": "code",
   "execution_count": 166,
   "id": "c5affb6e-ed6b-4e3a-a4da-fe3ca49e93a2",
   "metadata": {},
   "outputs": [
    {
     "data": {
      "text/html": [
       "<style>#sk-container-id-16 {color: black;background-color: white;}#sk-container-id-16 pre{padding: 0;}#sk-container-id-16 div.sk-toggleable {background-color: white;}#sk-container-id-16 label.sk-toggleable__label {cursor: pointer;display: block;width: 100%;margin-bottom: 0;padding: 0.3em;box-sizing: border-box;text-align: center;}#sk-container-id-16 label.sk-toggleable__label-arrow:before {content: \"▸\";float: left;margin-right: 0.25em;color: #696969;}#sk-container-id-16 label.sk-toggleable__label-arrow:hover:before {color: black;}#sk-container-id-16 div.sk-estimator:hover label.sk-toggleable__label-arrow:before {color: black;}#sk-container-id-16 div.sk-toggleable__content {max-height: 0;max-width: 0;overflow: hidden;text-align: left;background-color: #f0f8ff;}#sk-container-id-16 div.sk-toggleable__content pre {margin: 0.2em;color: black;border-radius: 0.25em;background-color: #f0f8ff;}#sk-container-id-16 input.sk-toggleable__control:checked~div.sk-toggleable__content {max-height: 200px;max-width: 100%;overflow: auto;}#sk-container-id-16 input.sk-toggleable__control:checked~label.sk-toggleable__label-arrow:before {content: \"▾\";}#sk-container-id-16 div.sk-estimator input.sk-toggleable__control:checked~label.sk-toggleable__label {background-color: #d4ebff;}#sk-container-id-16 div.sk-label input.sk-toggleable__control:checked~label.sk-toggleable__label {background-color: #d4ebff;}#sk-container-id-16 input.sk-hidden--visually {border: 0;clip: rect(1px 1px 1px 1px);clip: rect(1px, 1px, 1px, 1px);height: 1px;margin: -1px;overflow: hidden;padding: 0;position: absolute;width: 1px;}#sk-container-id-16 div.sk-estimator {font-family: monospace;background-color: #f0f8ff;border: 1px dotted black;border-radius: 0.25em;box-sizing: border-box;margin-bottom: 0.5em;}#sk-container-id-16 div.sk-estimator:hover {background-color: #d4ebff;}#sk-container-id-16 div.sk-parallel-item::after {content: \"\";width: 100%;border-bottom: 1px solid gray;flex-grow: 1;}#sk-container-id-16 div.sk-label:hover label.sk-toggleable__label {background-color: #d4ebff;}#sk-container-id-16 div.sk-serial::before {content: \"\";position: absolute;border-left: 1px solid gray;box-sizing: border-box;top: 0;bottom: 0;left: 50%;z-index: 0;}#sk-container-id-16 div.sk-serial {display: flex;flex-direction: column;align-items: center;background-color: white;padding-right: 0.2em;padding-left: 0.2em;position: relative;}#sk-container-id-16 div.sk-item {position: relative;z-index: 1;}#sk-container-id-16 div.sk-parallel {display: flex;align-items: stretch;justify-content: center;background-color: white;position: relative;}#sk-container-id-16 div.sk-item::before, #sk-container-id-16 div.sk-parallel-item::before {content: \"\";position: absolute;border-left: 1px solid gray;box-sizing: border-box;top: 0;bottom: 0;left: 50%;z-index: -1;}#sk-container-id-16 div.sk-parallel-item {display: flex;flex-direction: column;z-index: 1;position: relative;background-color: white;}#sk-container-id-16 div.sk-parallel-item:first-child::after {align-self: flex-end;width: 50%;}#sk-container-id-16 div.sk-parallel-item:last-child::after {align-self: flex-start;width: 50%;}#sk-container-id-16 div.sk-parallel-item:only-child::after {width: 0;}#sk-container-id-16 div.sk-dashed-wrapped {border: 1px dashed gray;margin: 0 0.4em 0.5em 0.4em;box-sizing: border-box;padding-bottom: 0.4em;background-color: white;}#sk-container-id-16 div.sk-label label {font-family: monospace;font-weight: bold;display: inline-block;line-height: 1.2em;}#sk-container-id-16 div.sk-label-container {text-align: center;}#sk-container-id-16 div.sk-container {/* jupyter's `normalize.less` sets `[hidden] { display: none; }` but bootstrap.min.css set `[hidden] { display: none !important; }` so we also need the `!important` here to be able to override the default hidden behavior on the sphinx rendered scikit-learn.org. See: https://github.com/scikit-learn/scikit-learn/issues/21755 */display: inline-block !important;position: relative;}#sk-container-id-16 div.sk-text-repr-fallback {display: none;}</style><div id=\"sk-container-id-16\" class=\"sk-top-container\"><div class=\"sk-text-repr-fallback\"><pre>LabelEncoder()</pre><b>In a Jupyter environment, please rerun this cell to show the HTML representation or trust the notebook. <br />On GitHub, the HTML representation is unable to render, please try loading this page with nbviewer.org.</b></div><div class=\"sk-container\" hidden><div class=\"sk-item\"><div class=\"sk-estimator sk-toggleable\"><input class=\"sk-toggleable__control sk-hidden--visually\" id=\"sk-estimator-id-16\" type=\"checkbox\" checked><label for=\"sk-estimator-id-16\" class=\"sk-toggleable__label sk-toggleable__label-arrow\">LabelEncoder</label><div class=\"sk-toggleable__content\"><pre>LabelEncoder()</pre></div></div></div></div></div>"
      ],
      "text/plain": [
       "LabelEncoder()"
      ]
     },
     "execution_count": 166,
     "metadata": {},
     "output_type": "execute_result"
    }
   ],
   "source": [
    "label = LabelEncoder()\n",
    "label"
   ]
  },
  {
   "cell_type": "code",
   "execution_count": 167,
   "id": "bb47a95d-9b01-4336-8a1d-ce070cf77a07",
   "metadata": {},
   "outputs": [],
   "source": [
    "# List of columns to encode\n",
    "columns_to_encode = ['sex', 'smoker','region']"
   ]
  },
  {
   "cell_type": "code",
   "execution_count": 168,
   "id": "e657c2ad-75f3-42ed-a85b-4601df3c4c8a",
   "metadata": {},
   "outputs": [],
   "source": [
    "# Apply label encoding to each column to be encoded\n",
    "df[columns_to_encode]=df[columns_to_encode].apply(LabelEncoder().fit_transform)"
   ]
  },
  {
   "cell_type": "code",
   "execution_count": 169,
   "id": "e0252616-15da-4a73-a96b-aab50da68375",
   "metadata": {},
   "outputs": [
    {
     "data": {
      "text/html": [
       "<div>\n",
       "<style scoped>\n",
       "    .dataframe tbody tr th:only-of-type {\n",
       "        vertical-align: middle;\n",
       "    }\n",
       "\n",
       "    .dataframe tbody tr th {\n",
       "        vertical-align: top;\n",
       "    }\n",
       "\n",
       "    .dataframe thead th {\n",
       "        text-align: right;\n",
       "    }\n",
       "</style>\n",
       "<table border=\"1\" class=\"dataframe\">\n",
       "  <thead>\n",
       "    <tr style=\"text-align: right;\">\n",
       "      <th></th>\n",
       "      <th>age</th>\n",
       "      <th>sex</th>\n",
       "      <th>bmi</th>\n",
       "      <th>children</th>\n",
       "      <th>smoker</th>\n",
       "      <th>region</th>\n",
       "      <th>charges</th>\n",
       "    </tr>\n",
       "  </thead>\n",
       "  <tbody>\n",
       "    <tr>\n",
       "      <th>0</th>\n",
       "      <td>19</td>\n",
       "      <td>0</td>\n",
       "      <td>27.900</td>\n",
       "      <td>0</td>\n",
       "      <td>1</td>\n",
       "      <td>3</td>\n",
       "      <td>16884.92400</td>\n",
       "    </tr>\n",
       "    <tr>\n",
       "      <th>1</th>\n",
       "      <td>18</td>\n",
       "      <td>1</td>\n",
       "      <td>33.770</td>\n",
       "      <td>1</td>\n",
       "      <td>0</td>\n",
       "      <td>2</td>\n",
       "      <td>1725.55230</td>\n",
       "    </tr>\n",
       "    <tr>\n",
       "      <th>2</th>\n",
       "      <td>28</td>\n",
       "      <td>1</td>\n",
       "      <td>33.000</td>\n",
       "      <td>3</td>\n",
       "      <td>0</td>\n",
       "      <td>2</td>\n",
       "      <td>4449.46200</td>\n",
       "    </tr>\n",
       "    <tr>\n",
       "      <th>3</th>\n",
       "      <td>33</td>\n",
       "      <td>1</td>\n",
       "      <td>22.705</td>\n",
       "      <td>0</td>\n",
       "      <td>0</td>\n",
       "      <td>1</td>\n",
       "      <td>21984.47061</td>\n",
       "    </tr>\n",
       "    <tr>\n",
       "      <th>4</th>\n",
       "      <td>32</td>\n",
       "      <td>1</td>\n",
       "      <td>28.880</td>\n",
       "      <td>0</td>\n",
       "      <td>0</td>\n",
       "      <td>1</td>\n",
       "      <td>3866.85520</td>\n",
       "    </tr>\n",
       "    <tr>\n",
       "      <th>...</th>\n",
       "      <td>...</td>\n",
       "      <td>...</td>\n",
       "      <td>...</td>\n",
       "      <td>...</td>\n",
       "      <td>...</td>\n",
       "      <td>...</td>\n",
       "      <td>...</td>\n",
       "    </tr>\n",
       "    <tr>\n",
       "      <th>1333</th>\n",
       "      <td>50</td>\n",
       "      <td>1</td>\n",
       "      <td>30.970</td>\n",
       "      <td>3</td>\n",
       "      <td>0</td>\n",
       "      <td>1</td>\n",
       "      <td>10600.54830</td>\n",
       "    </tr>\n",
       "    <tr>\n",
       "      <th>1334</th>\n",
       "      <td>18</td>\n",
       "      <td>0</td>\n",
       "      <td>31.920</td>\n",
       "      <td>0</td>\n",
       "      <td>0</td>\n",
       "      <td>0</td>\n",
       "      <td>2205.98080</td>\n",
       "    </tr>\n",
       "    <tr>\n",
       "      <th>1335</th>\n",
       "      <td>18</td>\n",
       "      <td>0</td>\n",
       "      <td>36.850</td>\n",
       "      <td>0</td>\n",
       "      <td>0</td>\n",
       "      <td>2</td>\n",
       "      <td>1629.83350</td>\n",
       "    </tr>\n",
       "    <tr>\n",
       "      <th>1336</th>\n",
       "      <td>21</td>\n",
       "      <td>0</td>\n",
       "      <td>25.800</td>\n",
       "      <td>0</td>\n",
       "      <td>0</td>\n",
       "      <td>3</td>\n",
       "      <td>2007.94500</td>\n",
       "    </tr>\n",
       "    <tr>\n",
       "      <th>1337</th>\n",
       "      <td>61</td>\n",
       "      <td>0</td>\n",
       "      <td>29.070</td>\n",
       "      <td>0</td>\n",
       "      <td>1</td>\n",
       "      <td>1</td>\n",
       "      <td>29141.36030</td>\n",
       "    </tr>\n",
       "  </tbody>\n",
       "</table>\n",
       "<p>1338 rows × 7 columns</p>\n",
       "</div>"
      ],
      "text/plain": [
       "      age  sex     bmi  children  smoker  region      charges\n",
       "0      19    0  27.900         0       1       3  16884.92400\n",
       "1      18    1  33.770         1       0       2   1725.55230\n",
       "2      28    1  33.000         3       0       2   4449.46200\n",
       "3      33    1  22.705         0       0       1  21984.47061\n",
       "4      32    1  28.880         0       0       1   3866.85520\n",
       "...   ...  ...     ...       ...     ...     ...          ...\n",
       "1333   50    1  30.970         3       0       1  10600.54830\n",
       "1334   18    0  31.920         0       0       0   2205.98080\n",
       "1335   18    0  36.850         0       0       2   1629.83350\n",
       "1336   21    0  25.800         0       0       3   2007.94500\n",
       "1337   61    0  29.070         0       1       1  29141.36030\n",
       "\n",
       "[1338 rows x 7 columns]"
      ]
     },
     "execution_count": 169,
     "metadata": {},
     "output_type": "execute_result"
    }
   ],
   "source": [
    "#this is the final dataset with all integer values\n",
    "df"
   ]
  },
  {
   "cell_type": "code",
   "execution_count": 170,
   "id": "825f9581-c730-40f8-9f0e-6bf0ec6e800e",
   "metadata": {},
   "outputs": [
    {
     "data": {
      "text/plain": [
       "pandas.core.series.Series"
      ]
     },
     "execution_count": 170,
     "metadata": {},
     "output_type": "execute_result"
    }
   ],
   "source": [
    "# we confrm the type of value of the sex column\n",
    "type(df.sex)"
   ]
  },
  {
   "cell_type": "code",
   "execution_count": 171,
   "id": "8a9c4ef8-3993-406d-b716-c1d3a7255a6d",
   "metadata": {},
   "outputs": [],
   "source": [
    "# Now we create x (input) and y (output) variable\n",
    "x=df.iloc[:,:-1].values\n",
    "y=df.iloc[:,-1].values"
   ]
  },
  {
   "cell_type": "code",
   "execution_count": 172,
   "id": "16a19c96-e821-47a6-ab5c-def2d061b4b1",
   "metadata": {},
   "outputs": [
    {
     "data": {
      "text/plain": [
       "array([[19.  ,  0.  , 27.9 ,  0.  ,  1.  ,  3.  ],\n",
       "       [18.  ,  1.  , 33.77,  1.  ,  0.  ,  2.  ],\n",
       "       [28.  ,  1.  , 33.  ,  3.  ,  0.  ,  2.  ],\n",
       "       ...,\n",
       "       [18.  ,  0.  , 36.85,  0.  ,  0.  ,  2.  ],\n",
       "       [21.  ,  0.  , 25.8 ,  0.  ,  0.  ,  3.  ],\n",
       "       [61.  ,  0.  , 29.07,  0.  ,  1.  ,  1.  ]])"
      ]
     },
     "execution_count": 172,
     "metadata": {},
     "output_type": "execute_result"
    }
   ],
   "source": [
    "x"
   ]
  },
  {
   "cell_type": "code",
   "execution_count": 173,
   "id": "cf153e87-e080-4cf8-abc4-f8521b0f5885",
   "metadata": {},
   "outputs": [
    {
     "data": {
      "text/plain": [
       "array([16884.924 ,  1725.5523,  4449.462 , ...,  1629.8335,  2007.945 ,\n",
       "       29141.3603])"
      ]
     },
     "execution_count": 173,
     "metadata": {},
     "output_type": "execute_result"
    }
   ],
   "source": [
    "y"
   ]
  },
  {
   "cell_type": "code",
   "execution_count": 174,
   "id": "16396381-5d48-4a84-a288-e24b98981e43",
   "metadata": {},
   "outputs": [
    {
     "name": "stdout",
     "output_type": "stream",
     "text": [
      "importing is done\n"
     ]
    }
   ],
   "source": [
    "# now we import additionl required libraries\n",
    "from sklearn.model_selection import train_test_split\n",
    "from sklearn.ensemble import GradientBoostingRegressor\n",
    "from sklearn.metrics import mean_squared_error\n",
    "print(\"importing is done\")"
   ]
  },
  {
   "cell_type": "code",
   "execution_count": 175,
   "id": "3f4d2b45-4ea6-4007-a675-5e9ac15c8596",
   "metadata": {},
   "outputs": [],
   "source": [
    "# now we create training and testing dataset\n",
    "x_train,x_test,y_train,y_test=train_test_split(x,y,test_size=0.2,random_state=42)"
   ]
  },
  {
   "cell_type": "code",
   "execution_count": 176,
   "id": "adee801e-156a-4d24-baea-cd5388e501ce",
   "metadata": {},
   "outputs": [
    {
     "data": {
      "text/plain": [
       "((1070, 6), (268, 6), (1070,), (268,))"
      ]
     },
     "execution_count": 176,
     "metadata": {},
     "output_type": "execute_result"
    }
   ],
   "source": [
    "x_train.shape,x_test.shape,y_train.shape,y_test.shape"
   ]
  },
  {
   "cell_type": "code",
   "execution_count": 194,
   "id": "9c78f4d0-bfea-4744-b6b5-8f67b7743249",
   "metadata": {},
   "outputs": [
    {
     "data": {
      "text/plain": [
       "array([[45.   ,  0.   , 25.175,  2.   ,  0.   ,  0.   ],\n",
       "       [36.   ,  0.   , 30.02 ,  0.   ,  0.   ,  1.   ],\n",
       "       [64.   ,  0.   , 26.885,  0.   ,  1.   ,  1.   ],\n",
       "       ...,\n",
       "       [18.   ,  0.   , 28.215,  0.   ,  0.   ,  0.   ],\n",
       "       [58.   ,  1.   , 36.08 ,  0.   ,  0.   ,  2.   ],\n",
       "       [20.   ,  1.   , 22.   ,  1.   ,  0.   ,  3.   ]])"
      ]
     },
     "execution_count": 194,
     "metadata": {},
     "output_type": "execute_result"
    }
   ],
   "source": [
    "x_test"
   ]
  },
  {
   "cell_type": "code",
   "execution_count": 177,
   "id": "b1b94bc1-09a0-4a30-9b01-9ea72e13f44b",
   "metadata": {},
   "outputs": [
    {
     "data": {
      "text/html": [
       "<style>#sk-container-id-17 {color: black;background-color: white;}#sk-container-id-17 pre{padding: 0;}#sk-container-id-17 div.sk-toggleable {background-color: white;}#sk-container-id-17 label.sk-toggleable__label {cursor: pointer;display: block;width: 100%;margin-bottom: 0;padding: 0.3em;box-sizing: border-box;text-align: center;}#sk-container-id-17 label.sk-toggleable__label-arrow:before {content: \"▸\";float: left;margin-right: 0.25em;color: #696969;}#sk-container-id-17 label.sk-toggleable__label-arrow:hover:before {color: black;}#sk-container-id-17 div.sk-estimator:hover label.sk-toggleable__label-arrow:before {color: black;}#sk-container-id-17 div.sk-toggleable__content {max-height: 0;max-width: 0;overflow: hidden;text-align: left;background-color: #f0f8ff;}#sk-container-id-17 div.sk-toggleable__content pre {margin: 0.2em;color: black;border-radius: 0.25em;background-color: #f0f8ff;}#sk-container-id-17 input.sk-toggleable__control:checked~div.sk-toggleable__content {max-height: 200px;max-width: 100%;overflow: auto;}#sk-container-id-17 input.sk-toggleable__control:checked~label.sk-toggleable__label-arrow:before {content: \"▾\";}#sk-container-id-17 div.sk-estimator input.sk-toggleable__control:checked~label.sk-toggleable__label {background-color: #d4ebff;}#sk-container-id-17 div.sk-label input.sk-toggleable__control:checked~label.sk-toggleable__label {background-color: #d4ebff;}#sk-container-id-17 input.sk-hidden--visually {border: 0;clip: rect(1px 1px 1px 1px);clip: rect(1px, 1px, 1px, 1px);height: 1px;margin: -1px;overflow: hidden;padding: 0;position: absolute;width: 1px;}#sk-container-id-17 div.sk-estimator {font-family: monospace;background-color: #f0f8ff;border: 1px dotted black;border-radius: 0.25em;box-sizing: border-box;margin-bottom: 0.5em;}#sk-container-id-17 div.sk-estimator:hover {background-color: #d4ebff;}#sk-container-id-17 div.sk-parallel-item::after {content: \"\";width: 100%;border-bottom: 1px solid gray;flex-grow: 1;}#sk-container-id-17 div.sk-label:hover label.sk-toggleable__label {background-color: #d4ebff;}#sk-container-id-17 div.sk-serial::before {content: \"\";position: absolute;border-left: 1px solid gray;box-sizing: border-box;top: 0;bottom: 0;left: 50%;z-index: 0;}#sk-container-id-17 div.sk-serial {display: flex;flex-direction: column;align-items: center;background-color: white;padding-right: 0.2em;padding-left: 0.2em;position: relative;}#sk-container-id-17 div.sk-item {position: relative;z-index: 1;}#sk-container-id-17 div.sk-parallel {display: flex;align-items: stretch;justify-content: center;background-color: white;position: relative;}#sk-container-id-17 div.sk-item::before, #sk-container-id-17 div.sk-parallel-item::before {content: \"\";position: absolute;border-left: 1px solid gray;box-sizing: border-box;top: 0;bottom: 0;left: 50%;z-index: -1;}#sk-container-id-17 div.sk-parallel-item {display: flex;flex-direction: column;z-index: 1;position: relative;background-color: white;}#sk-container-id-17 div.sk-parallel-item:first-child::after {align-self: flex-end;width: 50%;}#sk-container-id-17 div.sk-parallel-item:last-child::after {align-self: flex-start;width: 50%;}#sk-container-id-17 div.sk-parallel-item:only-child::after {width: 0;}#sk-container-id-17 div.sk-dashed-wrapped {border: 1px dashed gray;margin: 0 0.4em 0.5em 0.4em;box-sizing: border-box;padding-bottom: 0.4em;background-color: white;}#sk-container-id-17 div.sk-label label {font-family: monospace;font-weight: bold;display: inline-block;line-height: 1.2em;}#sk-container-id-17 div.sk-label-container {text-align: center;}#sk-container-id-17 div.sk-container {/* jupyter's `normalize.less` sets `[hidden] { display: none; }` but bootstrap.min.css set `[hidden] { display: none !important; }` so we also need the `!important` here to be able to override the default hidden behavior on the sphinx rendered scikit-learn.org. See: https://github.com/scikit-learn/scikit-learn/issues/21755 */display: inline-block !important;position: relative;}#sk-container-id-17 div.sk-text-repr-fallback {display: none;}</style><div id=\"sk-container-id-17\" class=\"sk-top-container\"><div class=\"sk-text-repr-fallback\"><pre>GradientBoostingRegressor()</pre><b>In a Jupyter environment, please rerun this cell to show the HTML representation or trust the notebook. <br />On GitHub, the HTML representation is unable to render, please try loading this page with nbviewer.org.</b></div><div class=\"sk-container\" hidden><div class=\"sk-item\"><div class=\"sk-estimator sk-toggleable\"><input class=\"sk-toggleable__control sk-hidden--visually\" id=\"sk-estimator-id-17\" type=\"checkbox\" checked><label for=\"sk-estimator-id-17\" class=\"sk-toggleable__label sk-toggleable__label-arrow\">GradientBoostingRegressor</label><div class=\"sk-toggleable__content\"><pre>GradientBoostingRegressor()</pre></div></div></div></div></div>"
      ],
      "text/plain": [
       "GradientBoostingRegressor()"
      ]
     },
     "execution_count": 177,
     "metadata": {},
     "output_type": "execute_result"
    }
   ],
   "source": [
    "model_i = GradientBoostingRegressor()\n",
    "model_i"
   ]
  },
  {
   "cell_type": "code",
   "execution_count": null,
   "id": "24e09f2a-1a8b-46d1-bf72-ad7cbd6c3159",
   "metadata": {},
   "outputs": [],
   "source": []
  },
  {
   "cell_type": "code",
   "execution_count": 204,
   "id": "07c073dc-5da9-48f3-9989-442d1341966d",
   "metadata": {},
   "outputs": [
    {
     "data": {
      "text/html": [
       "<style>#sk-container-id-19 {color: black;background-color: white;}#sk-container-id-19 pre{padding: 0;}#sk-container-id-19 div.sk-toggleable {background-color: white;}#sk-container-id-19 label.sk-toggleable__label {cursor: pointer;display: block;width: 100%;margin-bottom: 0;padding: 0.3em;box-sizing: border-box;text-align: center;}#sk-container-id-19 label.sk-toggleable__label-arrow:before {content: \"▸\";float: left;margin-right: 0.25em;color: #696969;}#sk-container-id-19 label.sk-toggleable__label-arrow:hover:before {color: black;}#sk-container-id-19 div.sk-estimator:hover label.sk-toggleable__label-arrow:before {color: black;}#sk-container-id-19 div.sk-toggleable__content {max-height: 0;max-width: 0;overflow: hidden;text-align: left;background-color: #f0f8ff;}#sk-container-id-19 div.sk-toggleable__content pre {margin: 0.2em;color: black;border-radius: 0.25em;background-color: #f0f8ff;}#sk-container-id-19 input.sk-toggleable__control:checked~div.sk-toggleable__content {max-height: 200px;max-width: 100%;overflow: auto;}#sk-container-id-19 input.sk-toggleable__control:checked~label.sk-toggleable__label-arrow:before {content: \"▾\";}#sk-container-id-19 div.sk-estimator input.sk-toggleable__control:checked~label.sk-toggleable__label {background-color: #d4ebff;}#sk-container-id-19 div.sk-label input.sk-toggleable__control:checked~label.sk-toggleable__label {background-color: #d4ebff;}#sk-container-id-19 input.sk-hidden--visually {border: 0;clip: rect(1px 1px 1px 1px);clip: rect(1px, 1px, 1px, 1px);height: 1px;margin: -1px;overflow: hidden;padding: 0;position: absolute;width: 1px;}#sk-container-id-19 div.sk-estimator {font-family: monospace;background-color: #f0f8ff;border: 1px dotted black;border-radius: 0.25em;box-sizing: border-box;margin-bottom: 0.5em;}#sk-container-id-19 div.sk-estimator:hover {background-color: #d4ebff;}#sk-container-id-19 div.sk-parallel-item::after {content: \"\";width: 100%;border-bottom: 1px solid gray;flex-grow: 1;}#sk-container-id-19 div.sk-label:hover label.sk-toggleable__label {background-color: #d4ebff;}#sk-container-id-19 div.sk-serial::before {content: \"\";position: absolute;border-left: 1px solid gray;box-sizing: border-box;top: 0;bottom: 0;left: 50%;z-index: 0;}#sk-container-id-19 div.sk-serial {display: flex;flex-direction: column;align-items: center;background-color: white;padding-right: 0.2em;padding-left: 0.2em;position: relative;}#sk-container-id-19 div.sk-item {position: relative;z-index: 1;}#sk-container-id-19 div.sk-parallel {display: flex;align-items: stretch;justify-content: center;background-color: white;position: relative;}#sk-container-id-19 div.sk-item::before, #sk-container-id-19 div.sk-parallel-item::before {content: \"\";position: absolute;border-left: 1px solid gray;box-sizing: border-box;top: 0;bottom: 0;left: 50%;z-index: -1;}#sk-container-id-19 div.sk-parallel-item {display: flex;flex-direction: column;z-index: 1;position: relative;background-color: white;}#sk-container-id-19 div.sk-parallel-item:first-child::after {align-self: flex-end;width: 50%;}#sk-container-id-19 div.sk-parallel-item:last-child::after {align-self: flex-start;width: 50%;}#sk-container-id-19 div.sk-parallel-item:only-child::after {width: 0;}#sk-container-id-19 div.sk-dashed-wrapped {border: 1px dashed gray;margin: 0 0.4em 0.5em 0.4em;box-sizing: border-box;padding-bottom: 0.4em;background-color: white;}#sk-container-id-19 div.sk-label label {font-family: monospace;font-weight: bold;display: inline-block;line-height: 1.2em;}#sk-container-id-19 div.sk-label-container {text-align: center;}#sk-container-id-19 div.sk-container {/* jupyter's `normalize.less` sets `[hidden] { display: none; }` but bootstrap.min.css set `[hidden] { display: none !important; }` so we also need the `!important` here to be able to override the default hidden behavior on the sphinx rendered scikit-learn.org. See: https://github.com/scikit-learn/scikit-learn/issues/21755 */display: inline-block !important;position: relative;}#sk-container-id-19 div.sk-text-repr-fallback {display: none;}</style><div id=\"sk-container-id-19\" class=\"sk-top-container\"><div class=\"sk-text-repr-fallback\"><pre>GradientBoostingRegressor()</pre><b>In a Jupyter environment, please rerun this cell to show the HTML representation or trust the notebook. <br />On GitHub, the HTML representation is unable to render, please try loading this page with nbviewer.org.</b></div><div class=\"sk-container\" hidden><div class=\"sk-item\"><div class=\"sk-estimator sk-toggleable\"><input class=\"sk-toggleable__control sk-hidden--visually\" id=\"sk-estimator-id-19\" type=\"checkbox\" checked><label for=\"sk-estimator-id-19\" class=\"sk-toggleable__label sk-toggleable__label-arrow\">GradientBoostingRegressor</label><div class=\"sk-toggleable__content\"><pre>GradientBoostingRegressor()</pre></div></div></div></div></div>"
      ],
      "text/plain": [
       "GradientBoostingRegressor()"
      ]
     },
     "execution_count": 204,
     "metadata": {},
     "output_type": "execute_result"
    }
   ],
   "source": [
    "# we fit the training data in our model\n",
    "model_i.fit(x_train,y_train)"
   ]
  },
  {
   "cell_type": "code",
   "execution_count": 205,
   "id": "dd860951-61fe-447f-8d87-c0e07173f463",
   "metadata": {},
   "outputs": [],
   "source": [
    "# Now testing new Model prediction by providing Test Data set\n",
    "y_i = model_i.predict(x_test)"
   ]
  },
  {
   "cell_type": "code",
   "execution_count": 206,
   "id": "58eba651-1e96-4942-9e1d-28af74c68e69",
   "metadata": {},
   "outputs": [
    {
     "data": {
      "text/plain": [
       "array([10613.51249559,  5680.4342457 , 29627.69439108,  9541.85252649,\n",
       "       34327.94325127,  4962.3508465 ,  2299.40102111, 16070.7350595 ,\n",
       "        4330.24331921, 11071.50277052, 18631.98027446,  7567.38807257,\n",
       "        4459.23189637, 45865.55619837, 47105.23965952, 45377.43181479,\n",
       "       11766.50422421, 45490.8041926 ,  9099.86497246, 24190.51024892,\n",
       "        6070.53804118,  8877.08734464,  1846.27745351,  4342.89005009,\n",
       "       11844.87104146, 12415.40689777, 14418.19983619,  6966.38395145,\n",
       "       11873.80325058,  3346.84494876,  7496.7973755 , 12022.39885384,\n",
       "        3104.19747569,  6225.84174375,  4928.57061977, 10177.92920393,\n",
       "        4115.75230999,  8484.595674  , 26761.11967517, 40717.20546526,\n",
       "        5656.55838911,  4534.36929011, 13593.28619931, 14312.66384893,\n",
       "        6686.55100825, 16068.3231131 ,  6096.62386646,  6450.78526151,\n",
       "       42989.71303551,  5823.70542022, 14322.21177735,  2251.81397234,\n",
       "        6962.98686947,  2507.35708549, 12202.58694563, 12005.01414558,\n",
       "        4891.81305222, 40502.51041916, 12119.91072572, 12498.23776648,\n",
       "       14360.35068939,  5543.30580393, 16798.92468757,  8104.24392107,\n",
       "       10951.05658218,  6277.78017316, 17878.80025541, 11696.89932556,\n",
       "        5829.34702373,  2007.26899847,  8443.64437726, 10935.75218727,\n",
       "       10710.49058611,  7743.61254867,  9654.00991815,  5331.97929607,\n",
       "        7354.28658102, 12165.3278617 ,  6393.83772274,  9165.41505868,\n",
       "        2949.45500458, 27633.94435538,  6654.45254032, 40494.00296833,\n",
       "       38690.99397657, 42455.95221057,  6045.5539015 , 12086.7506345 ,\n",
       "        9446.04593038, 16175.129199  , 25943.09687256, 29122.22852161,\n",
       "       28121.19847308,  7366.70308204, 42310.42177265,  6975.91167102,\n",
       "       20395.06502467,  3190.57145373, 18652.23886924,  7594.11575085,\n",
       "        5909.73442964,  1568.43511357,  6163.98133364, 13572.09047168,\n",
       "       13433.69365009,  3192.77658902,  9501.96059151, 21695.5665842 ,\n",
       "        1692.43927662, 24796.1976155 ,  1911.01287798,  4123.65597264,\n",
       "       14393.27466172, 40522.54192982, 12117.45200831,  3590.1069379 ,\n",
       "       13687.64633912, 24213.94055475,  7419.15136752,  6344.28337523,\n",
       "        7248.46926368,  7934.76744162, 13943.12455487,  4187.48219813,\n",
       "        6728.20153507,  7840.64869618,  9193.67827094, 11241.45424004,\n",
       "       14600.70768632,  4948.44587075,  3555.79095234,  7081.45139923,\n",
       "        7255.65471799, 10548.08034459,  6221.75878043, 16876.46100383,\n",
       "        6152.71768772, 36920.39075557, 45991.95057505, 40221.00877422,\n",
       "        5821.08141137, 10982.11812932,  4011.49239903, 13668.0071302 ,\n",
       "        3837.8232715 , 24208.45909383,  6830.99419333,  3599.88999081,\n",
       "       12105.06201647,  5691.24109311, 48876.44245156,  5093.90097343,\n",
       "        1584.04320085, 40221.90138295,  6825.15534672,  6069.42280453,\n",
       "       14242.54235388, 10226.82632559, 34693.3003023 , 39980.13984141,\n",
       "       14525.44597097,  4009.35715629, 18182.92347067,  5484.41719239,\n",
       "        5462.77913944,  7988.68956609, 46892.49969474, 43870.1236556 ,\n",
       "       41599.17248977,  3935.94899441, 10303.39583698,  6631.50269559,\n",
       "        8725.82744515,  5890.47321191,  3179.94697374, 24423.8912864 ,\n",
       "       17687.35364793, 13975.93801462, 16504.69048845, 12255.77284757,\n",
       "       27375.18384203,  3985.60515999,  9340.91771888,  5305.9637623 ,\n",
       "        6652.73501922,  4957.64865996,  8819.6178326 ,  4222.78812359,\n",
       "       10283.93515022, 11793.21946269,  5315.74029734,  2685.7436946 ,\n",
       "        4142.44609565, 42618.49923266, 15966.5450078 , 10239.19660406,\n",
       "        4196.57740999, 13676.03379243,  3114.71255674, 11015.67941131,\n",
       "        4328.55789457, 25089.37473846,  5750.4769209 ,  4841.36680313,\n",
       "       18977.33118151, 18567.04517981, 10703.2766119 ,  5546.31574695,\n",
       "       10215.58443941,  4677.86445068, 13534.44199261, 12795.36411746,\n",
       "       10841.13507434, 18876.31480081,  7750.64397945,  5093.51050936,\n",
       "        5398.10132563, 16591.54984164, 14857.90554663,  6133.00204446,\n",
       "        3832.53828338,  9239.31870446,  6728.83142792, 47686.74239696,\n",
       "        3130.85862791, 38404.51060719,  1657.31599015,  2491.959844  ,\n",
       "       10827.00114807, 12454.16617666,  2876.47058156,  9866.1668937 ,\n",
       "        6023.82191638, 24092.47651961, 10519.30990466, 10770.23001594,\n",
       "        6750.64478483,  6390.5905492 , 43868.02748632,  2949.45500458,\n",
       "       14296.45632113, 40440.55151001,  4737.101683  ,  5355.0880641 ,\n",
       "        2233.76317377,  4296.81077811,  6104.23018425,  4934.50758024,\n",
       "       12837.33108924,  1290.08747599,  3468.90428529,  7294.59423029,\n",
       "        4344.24767185, 11606.5322217 ,  4208.18788497,  5403.17075931,\n",
       "       13813.68109104,  6093.03869456,  9974.24006435,  8127.58940749,\n",
       "        7323.80245103, 13876.27878486, 19906.11554421, 45014.42227528,\n",
       "       12312.78116484,  7064.93907755, 47942.76379924, 10543.79583312,\n",
       "        8713.18316423, 11439.16497555, 10929.47469635,  8574.61049575,\n",
       "       12709.82556134, 13975.93801462,  3526.502051  , 13924.72880681,\n",
       "        8108.76848592, 39972.89455408,  6502.82189531, 11646.18199627,\n",
       "       10436.35299277, 15112.94487813,  9645.67403943, 10710.82559438,\n",
       "       39742.95836284,  4704.59279852, 11321.61991099, 47644.26248216,\n",
       "        6318.04801024,  4801.043158  ,  3827.588105  , 11881.55388266,\n",
       "       15667.51745182, 14383.76651029, 10342.25060027, 11222.05564333,\n",
       "       11916.18596045,  4677.86445068,  2844.4666445 , 39023.83183859,\n",
       "       39690.14683429,  7547.17959852,  5391.22482904, 20978.60685276,\n",
       "       16839.23619917, 40685.44551163,  4466.48688891, 45987.87038232,\n",
       "        6424.70275728,  1729.81207248,  6697.72511531,  4387.04022477,\n",
       "       18733.04266882, 14393.6335215 ,  3086.54993962, 12697.59983668,\n",
       "       12130.986016  , 14370.72174812, 43401.9262944 , 13817.49364594,\n",
       "       24511.85523624,  6953.39385521, 16456.28849297,  4934.50758024,\n",
       "        9346.45116772,  8669.42468148, 16703.6643493 , 12093.15969755,\n",
       "        5250.85076438, 11530.93367568, 14365.21513975, 13906.22442907,\n",
       "        5256.88064849, 35525.0123732 ,  6643.81993893,  4270.04481699,\n",
       "        6395.49967059, 10048.88968642, 44103.68944147,  8796.93474797,\n",
       "       14626.44991142,  7409.40535285,  7263.82433873,  5641.90482237,\n",
       "        5088.42857136,  8963.50310038,  6723.37869426,  2486.93724535,\n",
       "       11784.04525614,  9302.21578621,  5974.56086678,  3674.01916674,\n",
       "       10930.32275917,  4551.69329836, 40130.67463809, 39696.64159612,\n",
       "       49406.69507091,  4003.20390834,  9080.60375473,  6484.96576902,\n",
       "        2862.62904066, 23940.67479666,  6413.22063816, 17353.43688852,\n",
       "       47076.98605235,  5948.58299516, 14231.02343769,  7928.5159639 ,\n",
       "       10678.49994686, 12726.12219185, 20529.68490445, 13273.06582593,\n",
       "        7251.3306783 ,  6726.46390265,  2395.47703226, 11669.17112672,\n",
       "       20918.70221765, 13439.65717566, 11061.3400856 ,  4106.14057008,\n",
       "        6276.2689767 ,  6589.43805722, 10814.03692242,  8734.17648634,\n",
       "       23939.9117341 , 46134.40997029, 11626.02434481,  8963.50310038,\n",
       "       15084.42829222, 14184.4459651 ,  6964.5299114 ,  2783.07699642,\n",
       "        7543.05134653,  4909.3258046 , 10292.32791239,  4809.64803991,\n",
       "       12584.18275085, 12040.70067617,  5956.56304349,  3280.55240081,\n",
       "       12418.77588647,  3086.54993962])"
      ]
     },
     "execution_count": 206,
     "metadata": {},
     "output_type": "execute_result"
    }
   ],
   "source": [
    "# this is our variable which has learned the test data\n",
    "y_i"
   ]
  },
  {
   "cell_type": "code",
   "execution_count": 207,
   "id": "45afb1eb-84f1-47a1-98fe-1159a50adb87",
   "metadata": {},
   "outputs": [
    {
     "name": "stdout",
     "output_type": "stream",
     "text": [
      "19164439.64408805\n"
     ]
    }
   ],
   "source": [
    "# Compare predictions with testing data given\n",
    "# this will only give accuracy\n",
    "mse = mean_squared_error(y_test, y_i)\n",
    "print(mse)"
   ]
  },
  {
   "cell_type": "code",
   "execution_count": 208,
   "id": "75d8d49f-2c35-478d-bce9-8e230b86a9ba",
   "metadata": {},
   "outputs": [
    {
     "name": "stdout",
     "output_type": "stream",
     "text": [
      "19169660.713312637\n"
     ]
    }
   ],
   "source": [
    "# if we keep split as 70/30\n",
    "x_train,x_test,y_train,y_test=train_test_split(x,y,test_size=0.3,random_state=42)\n",
    "model_i = GradientBoostingRegressor()\n",
    "model_i.fit(x_train,y_train)\n",
    "y_i = model_i.predict(x_test)\n",
    "mse = mean_squared_error(y_test, y_i)\n",
    "print(mse)"
   ]
  },
  {
   "cell_type": "code",
   "execution_count": 209,
   "id": "3b308850-8055-4fe0-bfc6-2b6a5b5f473d",
   "metadata": {},
   "outputs": [
    {
     "data": {
      "text/plain": [
       "array([ 9095.06825 ,  5272.1758  , 29330.98315 ,  9301.89355 ,\n",
       "       33750.2918  ,  4536.259   ,  2117.33885 , 14210.53595 ,\n",
       "        3732.6251  , 10264.4421  , 18259.216   ,  7256.7231  ,\n",
       "        3947.4131  , 46151.1245  , 48673.5588  , 44202.6536  ,\n",
       "        9800.8882  , 42969.8527  ,  8233.0975  , 21774.32215 ,\n",
       "        5080.096   ,  7441.501   ,  1256.299   ,  2755.02095 ,\n",
       "       11085.5868  , 10923.9332  , 12644.589   , 18804.7524  ,\n",
       "        9715.841   ,  1131.5066  , 15828.82173 , 11842.62375 ,\n",
       "        2020.5523  ,  5693.4305  ,  2904.088   ,  7448.40395 ,\n",
       "        2597.779   ,  7337.748   , 23887.6627  , 38709.176   ,\n",
       "        4687.797   ,  2643.2685  , 11674.13    , 12124.9924  ,\n",
       "        4889.9995  , 12333.828   ,  3579.8287  ,  4391.652   ,\n",
       "       42124.5153  ,  4463.2051  , 13887.204   ,  1719.4363  ,\n",
       "       28476.73499 ,  1708.92575 , 10594.2257  , 25333.33284 ,\n",
       "        3645.0894  , 38746.3551  , 11848.141   , 10564.8845  ,\n",
       "       13880.949   ,  4753.6368  , 27941.28758 ,  8017.06115 ,\n",
       "       23045.56616 ,  4133.64165 , 17942.106   , 25992.82104 ,\n",
       "        3594.17085 ,  1682.597   ,  6079.6715  ,  9411.005   ,\n",
       "        8283.6807  ,  6338.0756  ,  7152.6714  ,  4889.0368  ,\n",
       "        4846.92015 , 11454.0215  ,  4349.462   ,  9101.798   ,\n",
       "        1391.5287  , 28101.33305 ,  5152.134   , 38511.6283  ,\n",
       "       44501.3982  , 41097.16175 ,  4837.5823  , 10601.63225 ,\n",
       "        8310.83915 , 11264.541   , 15230.32405 , 27037.9141  ,\n",
       "       23401.30575 ,  5031.26955 , 38282.7495  ,  6875.961   ,\n",
       "       19719.6947  ,  1880.07    , 18765.87545 ,  6402.29135 ,\n",
       "        4527.18295 ,  1743.214   ,  5709.1644  , 12363.547   ,\n",
       "       13129.60345 ,  1727.54    ,  7731.4271  , 21195.818   ,\n",
       "        1702.4553  , 23244.7902  , 23082.95533 ,  2927.0647  ,\n",
       "       13019.16105 , 37701.8768  ,  9778.3472  ,  1980.07    ,\n",
       "       30259.99556 , 22478.6     ,  6313.759   ,  2789.0574  ,\n",
       "        5594.8455  ,  7261.741   , 11396.9002  ,  1986.9334  ,\n",
       "        4719.73655 ,  7749.1564  ,  7345.7266  ,  9288.0267  ,\n",
       "       12244.531   ,  1837.2819  ,  3972.9247  ,  5934.3798  ,\n",
       "        5836.5204  ,  7935.29115 ,  5649.715   , 12347.172   ,\n",
       "       12404.8791  , 22144.032   , 42983.4585  , 37270.1512  ,\n",
       "        5267.81815 ,  9866.30485 ,  2322.6218  , 33471.97189 ,\n",
       "        2137.6536  , 23306.547   ,  5261.46945 ,  3761.292   ,\n",
       "       11436.73815 ,  4751.07    , 46661.4424  ,  2690.1138  ,\n",
       "        1146.7966  , 37607.5277  ,  6373.55735 ,  4518.82625 ,\n",
       "       13555.0049  ,  8547.6913  , 34439.8559  , 39125.33225 ,\n",
       "       13607.36875 ,  2710.82855 , 14988.432   ,  2396.0959  ,\n",
       "        3591.48    ,  7162.0122  , 48824.45    , 43578.9394  ,\n",
       "       39556.4945  ,  2632.992   ,  9182.17    ,  6238.298   ,\n",
       "        5757.41345 ,  4239.89265 ,  2154.361   , 21978.6769  ,\n",
       "       16297.846   , 13831.1152  , 32734.1863  , 11830.6072  ,\n",
       "       29523.1656  ,  3167.45585 ,  8428.0693  ,  5012.471   ,\n",
       "        5209.57885 ,  2855.43755 , 20277.80751 ,  3554.203   ,\n",
       "        8569.8618  , 10594.50155 ,  3597.596   ,  7323.734819,\n",
       "        2731.9122  , 38711.      , 12981.3457  ,  9283.562   ,\n",
       "        2709.1119  , 12096.6512  ,  2198.18985 ,  8932.084   ,\n",
       "        3176.2877  , 24393.6224  ,  4266.1658  , 22493.65964 ,\n",
       "       17085.2676  , 16577.7795  ,  8827.2099  ,  4296.2712  ,\n",
       "        7804.1605  ,  3208.787   , 12957.118   , 22192.43711 ,\n",
       "        9432.9253  , 17043.3414  ,  6593.5083  ,  4137.5227  ,\n",
       "        4779.6023  , 14001.2867  , 12629.8967  ,  5245.2269  ,\n",
       "        2404.7338  ,  6948.7008  ,  6435.6237  , 42560.4304  ,\n",
       "        2055.3249  , 34672.1472  ,  1731.677   ,  1639.5631  ,\n",
       "        9377.9047  , 10977.2063  ,  1534.3045  ,  9644.2525  ,\n",
       "        4529.477   , 37829.7242  ,  9991.03765 ,  8125.7845  ,\n",
       "        3877.30425 ,  5979.731   , 43896.3763  ,  1674.6323  ,\n",
       "       13204.28565 , 44585.45587 ,  3021.80915 ,  3392.9768  ,\n",
       "        1632.03625 ,  2699.56835 , 20177.67113 ,  4076.497   ,\n",
       "       12592.5345  ,  1621.3402  ,  1875.344   ,  7196.867   ,\n",
       "        3161.454   , 12029.2867  ,  2719.27975 , 18218.16139 ,\n",
       "       12146.971   ,  3292.52985 ,  8688.85885 ,  6113.23105 ,\n",
       "        8059.6791  , 13415.0381  , 18246.4955  , 47055.5321  ,\n",
       "       12222.8983  ,  6067.12675 , 63770.42801 ,  9872.701   ,\n",
       "        9193.8385  ,  8534.6718  , 27117.99378 ,  8596.8278  ,\n",
       "       12475.3513  , 13405.3903  ,  2150.469   , 13747.87235 ,\n",
       "        6610.1097  , 39047.285   , 27375.90478 ,  9048.0273  ,\n",
       "        8988.15875 , 14901.5167  , 10096.97    ,  8835.26495 ,\n",
       "       38415.474   ,  2721.3208  ,  9877.6077  , 47269.854   ,\n",
       "        4237.12655 ,  2534.39375 ,  2205.9808  , 10965.446   ,\n",
       "       15006.57945 , 10736.87075 ,  9788.8659  , 10422.91665 ,\n",
       "        9304.7019  ,  3378.91    ,  2155.6815  , 38126.2465  ,\n",
       "       35491.64    ,  6356.2707  , 24059.68019 , 16450.8947  ,\n",
       "       12925.886   , 36950.2567  ,  2459.7201  , 46889.2612  ,\n",
       "        5124.1887  , 14133.03775 ,  6414.178   ,  1720.3537  ,\n",
       "       15817.9857  , 13462.52    ,  2103.08    , 12105.32    ,\n",
       "       20781.48892 , 12235.8392  , 41949.2441  , 12643.3778  ,\n",
       "       21223.6758  ,  7954.517   , 15170.069   ,  3659.346   ,\n",
       "        8232.6388  ,  8027.968   , 13919.8229  , 10791.96    ,\n",
       "       17878.90068 , 10601.412   , 13217.0945  , 11944.59435 ,\n",
       "       14358.36437 , 32548.3405  ,  5699.8375  ,  2352.96845 ,\n",
       "        4340.4409  ,  9391.346   , 42211.1382  ,  8823.279   ,\n",
       "       14256.1928  ,  7133.9025  ,  5312.16985 ,  3906.127   ,\n",
       "        2203.47185 , 28340.18885 ,  5484.4673  ,  1622.1885  ,\n",
       "       11299.343   ,  8026.6666  , 11737.84884 ,  2913.569   ,\n",
       "        9861.025   ,  2473.3341  , 39983.42595 , 36307.7983  ,\n",
       "       44400.4064  ,  3172.018   ,  7742.1098  ,  6185.3208  ,\n",
       "        1880.487   , 21771.3423  ,  6858.4796  , 17179.522   ,\n",
       "       42760.5022  ,  5478.0368  , 12638.195   ,  5989.52365 ,\n",
       "        9566.9909  , 10370.91255 , 19594.80965 , 11576.13    ,\n",
       "        6360.9936  ,  4032.2407  ,  2585.269   , 11658.37915 ,\n",
       "       21082.16    , 10807.4863  ,  9724.53    ,  3201.24515 ,\n",
       "        3309.7926  ,  5969.723   ,  8269.044   ,  9414.92    ,\n",
       "       23967.38305 , 47928.03    , 11842.442   ,  7421.19455 ,\n",
       "       12950.0712  , 11033.6617  ,  6082.405   ,  3989.841   ,\n",
       "        7537.1639  ,  3484.331   ,  8116.68    , 17626.23951 ,\n",
       "       11837.16    ,  9541.69555 ,  4399.731   ,  2200.83085 ,\n",
       "       11363.2832  ,  1964.78    ])"
      ]
     },
     "execution_count": 209,
     "metadata": {},
     "output_type": "execute_result"
    }
   ],
   "source": [
    "# Predicting the output of single test data using our trained model\n",
    "y_test"
   ]
  },
  {
   "cell_type": "code",
   "execution_count": 210,
   "id": "cf4d04c8-d896-4a55-9acd-fa5d337a71cf",
   "metadata": {},
   "outputs": [
    {
     "data": {
      "text/plain": [
       "array([64.   ,  0.   , 26.885,  0.   ,  1.   ,  1.   ])"
      ]
     },
     "execution_count": 210,
     "metadata": {},
     "output_type": "execute_result"
    }
   ],
   "source": [
    "x_test[2]"
   ]
  },
  {
   "cell_type": "code",
   "execution_count": 211,
   "id": "2ea74ff8-fd2b-48cc-8de1-b1428a5ecf9a",
   "metadata": {},
   "outputs": [
    {
     "data": {
      "text/plain": [
       "(6,)"
      ]
     },
     "execution_count": 211,
     "metadata": {},
     "output_type": "execute_result"
    }
   ],
   "source": [
    "x_test[2].shape"
   ]
  },
  {
   "cell_type": "code",
   "execution_count": 212,
   "id": "eb19ea22-8d47-4081-9027-8fe89218bf24",
   "metadata": {},
   "outputs": [
    {
     "data": {
      "text/plain": [
       "array([[64.   ,  0.   , 26.885,  0.   ,  1.   ,  1.   ]])"
      ]
     },
     "execution_count": 212,
     "metadata": {},
     "output_type": "execute_result"
    }
   ],
   "source": [
    "x_test[2].reshape(1,6)"
   ]
  },
  {
   "cell_type": "code",
   "execution_count": 213,
   "id": "de2c07ce-f97a-40e1-ae5b-64599acdc695",
   "metadata": {},
   "outputs": [
    {
     "data": {
      "text/plain": [
       "(1, 6)"
      ]
     },
     "execution_count": 213,
     "metadata": {},
     "output_type": "execute_result"
    }
   ],
   "source": [
    "x_test[2].reshape(1,6).shape"
   ]
  },
  {
   "cell_type": "code",
   "execution_count": 214,
   "id": "dd65dbf9-ac68-4eb3-8c0a-b960e103c244",
   "metadata": {},
   "outputs": [
    {
     "data": {
      "text/plain": [
       "array([29627.69439108])"
      ]
     },
     "execution_count": 214,
     "metadata": {},
     "output_type": "execute_result"
    }
   ],
   "source": [
    "model_i.predict(x_test[2].reshape(1,6))"
   ]
  },
  {
   "cell_type": "code",
   "execution_count": 215,
   "id": "69e31c7d-2ae1-405a-8770-c2f90efbdd7d",
   "metadata": {},
   "outputs": [
    {
     "data": {
      "text/plain": [
       "29627.694391075875"
      ]
     },
     "execution_count": 215,
     "metadata": {},
     "output_type": "execute_result"
    }
   ],
   "source": [
    "y_i[2]"
   ]
  },
  {
   "cell_type": "code",
   "execution_count": 216,
   "id": "eb46cb49-156a-470f-a10f-8df23c5fa968",
   "metadata": {},
   "outputs": [],
   "source": [
    "# our model is able to predict correctly."
   ]
  },
  {
   "cell_type": "code",
   "execution_count": null,
   "id": "cbfdc8c8-ab6b-44a0-bfe9-4510b3f6a1a9",
   "metadata": {},
   "outputs": [],
   "source": []
  },
  {
   "cell_type": "code",
   "execution_count": null,
   "id": "8ff0291f-fb12-44c6-aacf-69718bb5ae17",
   "metadata": {},
   "outputs": [],
   "source": []
  }
 ],
 "metadata": {
  "kernelspec": {
   "display_name": "Python 3 (ipykernel)",
   "language": "python",
   "name": "python3"
  },
  "language_info": {
   "codemirror_mode": {
    "name": "ipython",
    "version": 3
   },
   "file_extension": ".py",
   "mimetype": "text/x-python",
   "name": "python",
   "nbconvert_exporter": "python",
   "pygments_lexer": "ipython3",
   "version": "3.11.7"
  }
 },
 "nbformat": 4,
 "nbformat_minor": 5
}
